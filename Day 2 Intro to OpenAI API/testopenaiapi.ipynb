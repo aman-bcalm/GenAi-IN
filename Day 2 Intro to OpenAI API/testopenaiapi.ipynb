{
 "cells": [
  {
   "cell_type": "code",
   "execution_count": 3,
   "id": "13fe1838-d9b4-4d2f-be07-42cc856936cf",
   "metadata": {},
   "outputs": [],
   "source": [
    "import openai\n",
    "import os"
   ]
  },
  {
   "cell_type": "markdown",
   "id": "214edf3c-1733-4b80-9ab7-281b0d80140b",
   "metadata": {},
   "source": [
    "#What is OpenAi Api ?"
   ]
  },
  {
   "cell_type": "markdown",
   "id": "4571559f-706e-4ee6-b323-13b29c62f59a",
   "metadata": {},
   "source": [
    "#Generate OpenAI Api key"
   ]
  },
  {
   "cell_type": "code",
   "execution_count": 4,
   "id": "6b2d718d-ddbf-4ed7-8590-1a54f58dac53",
   "metadata": {},
   "outputs": [],
   "source": [
    "environment_variable_name = 'OPENAI_API_KEY'"
   ]
  },
  {
   "cell_type": "code",
   "execution_count": 5,
   "id": "ed9637a5-6ef2-429d-978a-6b830639f0e4",
   "metadata": {},
   "outputs": [],
   "source": [
    "mykey=os.environ['OPENAI_API_KEY']"
   ]
  },
  {
   "cell_type": "code",
   "execution_count": 6,
   "id": "874ec9f7-aa97-47c4-9674-5e86578d57d1",
   "metadata": {},
   "outputs": [],
   "source": [
    "openai.api_key=mykey"
   ]
  },
  {
   "cell_type": "code",
   "execution_count": 7,
   "id": "797c7453-51ed-4220-a14b-b641a204a714",
   "metadata": {},
   "outputs": [],
   "source": [
    "all_models = openai.models.list()"
   ]
  },
  {
   "cell_type": "code",
   "execution_count": 8,
   "id": "14775731-326f-4c48-b320-af09d8876abf",
   "metadata": {},
   "outputs": [
    {
     "data": {
      "text/plain": [
       "[Model(id='dall-e-3', created=1698785189, object='model', owned_by='system'),\n",
       " Model(id='whisper-1', created=1677532384, object='model', owned_by='openai-internal'),\n",
       " Model(id='davinci-002', created=1692634301, object='model', owned_by='system'),\n",
       " Model(id='gpt-3.5-turbo-1106', created=1698959748, object='model', owned_by='system'),\n",
       " Model(id='dall-e-2', created=1698798177, object='model', owned_by='system'),\n",
       " Model(id='gpt-3.5-turbo-16k', created=1683758102, object='model', owned_by='openai-internal'),\n",
       " Model(id='tts-1-hd-1106', created=1699053533, object='model', owned_by='system'),\n",
       " Model(id='tts-1-hd', created=1699046015, object='model', owned_by='system'),\n",
       " Model(id='gpt-4', created=1687882411, object='model', owned_by='openai'),\n",
       " Model(id='gpt-4-turbo-2024-04-09', created=1712601677, object='model', owned_by='system'),\n",
       " Model(id='gpt-4-0613', created=1686588896, object='model', owned_by='openai'),\n",
       " Model(id='gpt-4-vision-preview', created=1698894917, object='model', owned_by='system'),\n",
       " Model(id='gpt-4-0125-preview', created=1706037612, object='model', owned_by='system'),\n",
       " Model(id='gpt-3.5-turbo', created=1677610602, object='model', owned_by='openai'),\n",
       " Model(id='gpt-4-turbo-preview', created=1706037777, object='model', owned_by='system'),\n",
       " Model(id='gpt-3.5-turbo-instruct-0914', created=1694122472, object='model', owned_by='system'),\n",
       " Model(id='gpt-3.5-turbo-instruct', created=1692901427, object='model', owned_by='system'),\n",
       " Model(id='gpt-4-1106-vision-preview', created=1711473033, object='model', owned_by='system'),\n",
       " Model(id='gpt-3.5-turbo-0125', created=1706048358, object='model', owned_by='system'),\n",
       " Model(id='tts-1', created=1681940951, object='model', owned_by='openai-internal'),\n",
       " Model(id='gpt-3.5-turbo-0301', created=1677649963, object='model', owned_by='openai'),\n",
       " Model(id='babbage-002', created=1692634615, object='model', owned_by='system'),\n",
       " Model(id='tts-1-1106', created=1699053241, object='model', owned_by='system'),\n",
       " Model(id='text-embedding-3-large', created=1705953180, object='model', owned_by='system'),\n",
       " Model(id='text-embedding-3-small', created=1705948997, object='model', owned_by='system'),\n",
       " Model(id='text-embedding-ada-002', created=1671217299, object='model', owned_by='openai-internal'),\n",
       " Model(id='gpt-4-1106-preview', created=1698957206, object='model', owned_by='system'),\n",
       " Model(id='gpt-3.5-turbo-0613', created=1686587434, object='model', owned_by='openai'),\n",
       " Model(id='gpt-3.5-turbo-16k-0613', created=1685474247, object='model', owned_by='openai'),\n",
       " Model(id='gpt-4-turbo', created=1712361441, object='model', owned_by='system')]"
      ]
     },
     "execution_count": 8,
     "metadata": {},
     "output_type": "execute_result"
    }
   ],
   "source": [
    "list(all_models)"
   ]
  },
  {
   "cell_type": "code",
   "execution_count": 9,
   "id": "de4e6408-dae0-4fbe-bf69-e5c739f75eb1",
   "metadata": {},
   "outputs": [],
   "source": [
    "models = list(all_models)"
   ]
  },
  {
   "cell_type": "code",
   "execution_count": 12,
   "id": "2317adef-ca04-4382-a03b-ee6bf15800cf",
   "metadata": {},
   "outputs": [],
   "source": [
    "import pandas as pd"
   ]
  },
  {
   "cell_type": "code",
   "execution_count": 10,
   "id": "12be604d-98f7-4d31-a87c-a6eee245ee92",
   "metadata": {},
   "outputs": [],
   "source": [
    "# Extract data from each model object into a dictionary\n",
    "data = []\n",
    "for model in models:\n",
    "  data.append({\n",
    "      \"id\": model.id,\n",
    "      \"created\": model.created,\n",
    "      \"object\": model.object,\n",
    "      \"owned_by\": model.owned_by\n",
    "  })"
   ]
  },
  {
   "cell_type": "code",
   "execution_count": 11,
   "id": "d62d2ae3-f80f-4ee3-8581-05e8b149a377",
   "metadata": {},
   "outputs": [],
   "source": [
    "# This code is for v1 of the openai package: pypi.org/project/openai\n",
    "from openai import OpenAI\n",
    "client = OpenAI(api_key=mykey)"
   ]
  },
  {
   "cell_type": "code",
   "execution_count": 18,
   "id": "0559216d-c5b8-403b-bbcc-45c0754c6c22",
   "metadata": {},
   "outputs": [],
   "source": [
    "response = client.chat.completions.create(\n",
    "    model=\"gpt-3.5-turbo\",\n",
    "    messages=[\n",
    "    {\n",
    "      \"role\": \"user\",\n",
    "      \"content\": \"Which player won the first wimbeldon?\"\n",
    "    }\n",
    "      ]\n",
    "    ,\n",
    "    max_tokens=250,\n",
    "    n=3\n",
    ")"
   ]
  },
  {
   "cell_type": "code",
   "execution_count": 19,
   "id": "9697f967-14c7-4c88-b8ed-34e118485f0f",
   "metadata": {},
   "outputs": [
    {
     "data": {
      "text/plain": [
       "ChatCompletion(id='chatcmpl-9KLOHhilHzJWUoVerLOJ6Znk3ITZ8', choices=[Choice(finish_reason='stop', index=0, logprobs=None, message=ChatCompletionMessage(content='The first Wimbledon championship was won by Spencer Gore in 1877.', role='assistant', function_call=None, tool_calls=None)), Choice(finish_reason='stop', index=1, logprobs=None, message=ChatCompletionMessage(content='The first Wimbledon Championship was won by Spencer Gore in 1877.', role='assistant', function_call=None, tool_calls=None)), Choice(finish_reason='stop', index=2, logprobs=None, message=ChatCompletionMessage(content='The first Wimbledon Championship was won by Spencer Gore in 1877.', role='assistant', function_call=None, tool_calls=None))], created=1714635813, model='gpt-3.5-turbo-0125', object='chat.completion', system_fingerprint='fp_3b956da36b', usage=CompletionUsage(completion_tokens=42, prompt_tokens=16, total_tokens=58))"
      ]
     },
     "execution_count": 19,
     "metadata": {},
     "output_type": "execute_result"
    }
   ],
   "source": [
    "#The number of n gives the number of responses\n",
    "#by using response.choices[0 to n-1].message.content we can get the various responses \n",
    "#repsones = n\n",
    "response"
   ]
  },
  {
   "cell_type": "code",
   "execution_count": 14,
   "id": "207ed7f6-5503-4945-8e08-ecf552b8bf40",
   "metadata": {},
   "outputs": [
    {
     "data": {
      "text/plain": [
       "openai.types.chat.chat_completion.ChatCompletion"
      ]
     },
     "execution_count": 14,
     "metadata": {},
     "output_type": "execute_result"
    }
   ],
   "source": [
    "type(response)"
   ]
  },
  {
   "cell_type": "code",
   "execution_count": null,
   "id": "7da75d76-26f9-4735-90c9-d6d01cde57f3",
   "metadata": {},
   "outputs": [],
   "source": []
  },
  {
   "cell_type": "code",
   "execution_count": 20,
   "id": "f36f99a9-ec14-4ff6-bb47-b762356bbe05",
   "metadata": {},
   "outputs": [
    {
     "data": {
      "text/plain": [
       "'The first Wimbledon championship was won by Spencer Gore in 1877.'"
      ]
     },
     "execution_count": 20,
     "metadata": {},
     "output_type": "execute_result"
    }
   ],
   "source": [
    "#n=0\n",
    "response.choices[0].message.content"
   ]
  },
  {
   "cell_type": "code",
   "execution_count": 21,
   "id": "4d71233d-1a6c-49f0-9e81-a3342109d659",
   "metadata": {},
   "outputs": [
    {
     "data": {
      "text/plain": [
       "'The first Wimbledon Championship was won by Spencer Gore in 1877.'"
      ]
     },
     "execution_count": 21,
     "metadata": {},
     "output_type": "execute_result"
    }
   ],
   "source": [
    "#n=1\n",
    "response.choices[1].message.content"
   ]
  },
  {
   "cell_type": "code",
   "execution_count": 22,
   "id": "ed1dffc4-2241-48e7-bb27-e2b23d404a32",
   "metadata": {},
   "outputs": [
    {
     "data": {
      "text/plain": [
       "'The first Wimbledon Championship was won by Spencer Gore in 1877.'"
      ]
     },
     "execution_count": 22,
     "metadata": {},
     "output_type": "execute_result"
    }
   ],
   "source": [
    "#n=3\n",
    "response.choices[2].message.content"
   ]
  },
  {
   "cell_type": "code",
   "execution_count": null,
   "id": "510de6ec-0443-4163-87ab-521734323555",
   "metadata": {},
   "outputs": [],
   "source": [
    "# now let try to understand the different parameters inside the methods\n",
    "model= \"\"\n",
    "prompt=input prompt\n",
    "max_tokens=in how many number of tokens you want in output\n",
    "temperature=for getting some creative output\n",
    "n= number of the output"
   ]
  }
 ],
 "metadata": {
  "kernelspec": {
   "display_name": "Python 3 (ipykernel)",
   "language": "python",
   "name": "python3"
  },
  "language_info": {
   "codemirror_mode": {
    "name": "ipython",
    "version": 3
   },
   "file_extension": ".py",
   "mimetype": "text/x-python",
   "name": "python",
   "nbconvert_exporter": "python",
   "pygments_lexer": "ipython3",
   "version": "3.11.5"
  }
 },
 "nbformat": 4,
 "nbformat_minor": 5
}
