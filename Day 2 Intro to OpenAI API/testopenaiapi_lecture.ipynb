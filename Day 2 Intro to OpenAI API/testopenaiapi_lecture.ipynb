{
 "cells": [
  {
   "cell_type": "code",
   "execution_count": 6,
   "id": "cdaa87cd-c938-4388-a39f-4d70e7c04767",
   "metadata": {
    "id": "cdaa87cd-c938-4388-a39f-4d70e7c04767"
   },
   "outputs": [],
   "source": [
    "import openai\n",
    "import os"
   ]
  },
  {
   "cell_type": "code",
   "execution_count": 20,
   "id": "89502101-addd-4f79-bf00-edfd2aab4156",
   "metadata": {},
   "outputs": [],
   "source": [
    "environment_variable_name = 'OPENAI_API_KEY'"
   ]
  },
  {
   "cell_type": "code",
   "execution_count": 21,
   "id": "3692477c-82e8-4fee-befc-c3cbf0992f81",
   "metadata": {},
   "outputs": [
    {
     "name": "stdout",
     "output_type": "stream",
     "text": [
      "The environment variable 'OPENAI_API_KEY' is set \n"
     ]
    }
   ],
   "source": [
    "# Check if the environment variable is set\n",
    "if os.environ.get(environment_variable_name) is not None:\n",
    "  # The environment variable is set\n",
    "  print(f\"The environment variable '{environment_variable_name}' is set \")\n",
    "else:\n",
    "  # The environment variable is not set\n",
    "  print(f\"The environment variable '{environment_variable_name}' is not set.\")"
   ]
  },
  {
   "cell_type": "code",
   "execution_count": null,
   "id": "036342bf-d8ee-4224-abaa-ba9d00e2fa16",
   "metadata": {},
   "outputs": [],
   "source": []
  },
  {
   "cell_type": "markdown",
   "id": "8e14852b-2c12-4509-8a61-c7e938512d2d",
   "metadata": {
    "id": "8e14852b-2c12-4509-8a61-c7e938512d2d"
   },
   "source": [
    "# 1. What is OpenAI API?\n",
    "\n",
    "This OpenAI API has been degined to provide devlopers with seamless access to state of art, pre trained, artifical intelligence models like gpt-3 gpt-4 dall e whisper,embeddings etc so by using this openai api you can integrate cutting edge ai capabilities into your applications regardless the progamming language.\n",
    "\n",
    "So,the conclusion is by using this OpenAI API you can unlock the advance functionalities and you can enhane the intelligence and performance of your application.\n"
   ]
  },
  {
   "cell_type": "markdown",
   "id": "0b0af1e5-9936-4b69-b57a-4f9122f7e3de",
   "metadata": {
    "id": "0b0af1e5-9936-4b69-b57a-4f9122f7e3de"
   },
   "source": [
    "# 2. Generatate OpenAI API key"
   ]
  },
  {
   "cell_type": "code",
   "execution_count": 13,
   "id": "c0c5ee2a-47db-458d-bb9e-334762b83828",
   "metadata": {
    "id": "c0c5ee2a-47db-458d-bb9e-334762b83828"
   },
   "outputs": [],
   "source": [
    "mykey=os.environ['OPENAI_API_KEY']"
   ]
  },
  {
   "cell_type": "code",
   "execution_count": 14,
   "id": "94dbffe3-e630-4649-bdd8-6585406726dc",
   "metadata": {
    "id": "94dbffe3-e630-4649-bdd8-6585406726dc"
   },
   "outputs": [],
   "source": [
    "openai.api_key=mykey"
   ]
  },
  {
   "cell_type": "code",
   "execution_count": 15,
   "id": "3fe81bf9-6c78-4078-8cc6-1ea270da78be",
   "metadata": {
    "id": "3fe81bf9-6c78-4078-8cc6-1ea270da78be"
   },
   "outputs": [],
   "source": [
    "all_models=openai.models.list()"
   ]
  },
  {
   "cell_type": "code",
   "execution_count": 23,
   "id": "99adbea7-48c3-4a10-9a38-b4182545729f",
   "metadata": {},
   "outputs": [
    {
     "name": "stdout",
     "output_type": "stream",
     "text": [
      "<class 'openai.pagination.SyncPage[Model]'>\n"
     ]
    }
   ],
   "source": [
    "print(type(all_models))"
   ]
  },
  {
   "cell_type": "code",
   "execution_count": 16,
   "id": "a47dff0d-8772-4c9b-9e58-01fdb8bb1749",
   "metadata": {
    "id": "a47dff0d-8772-4c9b-9e58-01fdb8bb1749",
    "outputId": "babc4256-9897-45a7-d3fa-5999be0bfb80"
   },
   "outputs": [
    {
     "data": {
      "text/plain": [
       "[Model(id='dall-e-3', created=1698785189, object='model', owned_by='system'),\n",
       " Model(id='whisper-1', created=1677532384, object='model', owned_by='openai-internal'),\n",
       " Model(id='davinci-002', created=1692634301, object='model', owned_by='system'),\n",
       " Model(id='gpt-3.5-turbo-1106', created=1698959748, object='model', owned_by='system'),\n",
       " Model(id='dall-e-2', created=1698798177, object='model', owned_by='system'),\n",
       " Model(id='gpt-3.5-turbo-16k', created=1683758102, object='model', owned_by='openai-internal'),\n",
       " Model(id='tts-1-hd-1106', created=1699053533, object='model', owned_by='system'),\n",
       " Model(id='tts-1-hd', created=1699046015, object='model', owned_by='system'),\n",
       " Model(id='gpt-4', created=1687882411, object='model', owned_by='openai'),\n",
       " Model(id='gpt-4-turbo-2024-04-09', created=1712601677, object='model', owned_by='system'),\n",
       " Model(id='gpt-4-0613', created=1686588896, object='model', owned_by='openai'),\n",
       " Model(id='gpt-4-vision-preview', created=1698894917, object='model', owned_by='system'),\n",
       " Model(id='gpt-4-0125-preview', created=1706037612, object='model', owned_by='system'),\n",
       " Model(id='gpt-3.5-turbo', created=1677610602, object='model', owned_by='openai'),\n",
       " Model(id='gpt-4-turbo-preview', created=1706037777, object='model', owned_by='system'),\n",
       " Model(id='gpt-3.5-turbo-instruct-0914', created=1694122472, object='model', owned_by='system'),\n",
       " Model(id='gpt-3.5-turbo-instruct', created=1692901427, object='model', owned_by='system'),\n",
       " Model(id='gpt-4-1106-vision-preview', created=1711473033, object='model', owned_by='system'),\n",
       " Model(id='gpt-3.5-turbo-0125', created=1706048358, object='model', owned_by='system'),\n",
       " Model(id='tts-1', created=1681940951, object='model', owned_by='openai-internal'),\n",
       " Model(id='gpt-3.5-turbo-0301', created=1677649963, object='model', owned_by='openai'),\n",
       " Model(id='babbage-002', created=1692634615, object='model', owned_by='system'),\n",
       " Model(id='tts-1-1106', created=1699053241, object='model', owned_by='system'),\n",
       " Model(id='text-embedding-3-large', created=1705953180, object='model', owned_by='system'),\n",
       " Model(id='text-embedding-3-small', created=1705948997, object='model', owned_by='system'),\n",
       " Model(id='text-embedding-ada-002', created=1671217299, object='model', owned_by='openai-internal'),\n",
       " Model(id='gpt-4-1106-preview', created=1698957206, object='model', owned_by='system'),\n",
       " Model(id='gpt-3.5-turbo-0613', created=1686587434, object='model', owned_by='openai'),\n",
       " Model(id='gpt-3.5-turbo-16k-0613', created=1685474247, object='model', owned_by='openai'),\n",
       " Model(id='gpt-4-turbo', created=1712361441, object='model', owned_by='system')]"
      ]
     },
     "execution_count": 16,
     "metadata": {},
     "output_type": "execute_result"
    }
   ],
   "source": [
    "list(all_models)"
   ]
  },
  {
   "cell_type": "code",
   "execution_count": 33,
   "id": "c8e81e33-caa3-4fed-9f1b-2d061e1de38b",
   "metadata": {},
   "outputs": [],
   "source": [
    "models = list(all_models)"
   ]
  },
  {
   "cell_type": "code",
   "execution_count": 34,
   "id": "58a99ce6-fe0a-460a-a3ed-ee0ae7dadeed",
   "metadata": {},
   "outputs": [
    {
     "data": {
      "text/plain": [
       "openai.types.model.Model"
      ]
     },
     "execution_count": 34,
     "metadata": {},
     "output_type": "execute_result"
    }
   ],
   "source": [
    "type(models[0])"
   ]
  },
  {
   "cell_type": "code",
   "execution_count": 35,
   "id": "91038c4b-db5a-4c82-b598-5084450ae7a3",
   "metadata": {},
   "outputs": [
    {
     "data": {
      "text/plain": [
       "'dall-e-3'"
      ]
     },
     "execution_count": 35,
     "metadata": {},
     "output_type": "execute_result"
    }
   ],
   "source": [
    "models[0].id"
   ]
  },
  {
   "cell_type": "code",
   "execution_count": 36,
   "id": "c2f58eb8-84a6-43fb-83d6-02e91091c1c3",
   "metadata": {},
   "outputs": [],
   "source": [
    "#so we now need to extarct the details"
   ]
  },
  {
   "cell_type": "code",
   "execution_count": 37,
   "id": "85045a68-d363-4bb7-908f-fa2b9b4f90f6",
   "metadata": {},
   "outputs": [],
   "source": [
    "# Extract data from each model object into a dictionary\n",
    "data = []\n",
    "for model in models:\n",
    "  data.append({\n",
    "      \"id\": model.id,\n",
    "      \"created\": model.created,\n",
    "      \"object\": model.object,\n",
    "      \"owned_by\": model.owned_by\n",
    "  })\n"
   ]
  },
  {
   "cell_type": "code",
   "execution_count": 38,
   "id": "920874b7-bfe6-42dd-a7f5-41972d03e957",
   "metadata": {},
   "outputs": [
    {
     "name": "stdout",
     "output_type": "stream",
     "text": [
      "                             id     created object         owned_by\n",
      "0                      dall-e-3  1698785189  model           system\n",
      "1                     whisper-1  1677532384  model  openai-internal\n",
      "2                   davinci-002  1692634301  model           system\n",
      "3            gpt-3.5-turbo-1106  1698959748  model           system\n",
      "4                      dall-e-2  1698798177  model           system\n",
      "5             gpt-3.5-turbo-16k  1683758102  model  openai-internal\n",
      "6                 tts-1-hd-1106  1699053533  model           system\n",
      "7                      tts-1-hd  1699046015  model           system\n",
      "8                         gpt-4  1687882411  model           openai\n",
      "9        gpt-4-turbo-2024-04-09  1712601677  model           system\n",
      "10                   gpt-4-0613  1686588896  model           openai\n",
      "11         gpt-4-vision-preview  1698894917  model           system\n",
      "12           gpt-4-0125-preview  1706037612  model           system\n",
      "13                gpt-3.5-turbo  1677610602  model           openai\n",
      "14          gpt-4-turbo-preview  1706037777  model           system\n",
      "15  gpt-3.5-turbo-instruct-0914  1694122472  model           system\n",
      "16       gpt-3.5-turbo-instruct  1692901427  model           system\n",
      "17    gpt-4-1106-vision-preview  1711473033  model           system\n",
      "18           gpt-3.5-turbo-0125  1706048358  model           system\n",
      "19                        tts-1  1681940951  model  openai-internal\n",
      "20           gpt-3.5-turbo-0301  1677649963  model           openai\n",
      "21                  babbage-002  1692634615  model           system\n",
      "22                   tts-1-1106  1699053241  model           system\n",
      "23       text-embedding-3-large  1705953180  model           system\n",
      "24       text-embedding-3-small  1705948997  model           system\n",
      "25       text-embedding-ada-002  1671217299  model  openai-internal\n",
      "26           gpt-4-1106-preview  1698957206  model           system\n",
      "27           gpt-3.5-turbo-0613  1686587434  model           openai\n",
      "28       gpt-3.5-turbo-16k-0613  1685474247  model           openai\n",
      "29                  gpt-4-turbo  1712361441  model           system\n"
     ]
    }
   ],
   "source": [
    "# Create the DataFrame\n",
    "df = pd.DataFrame(data)\n",
    "\n",
    "# Print the DataFrame\n",
    "print(df)"
   ]
  },
  {
   "cell_type": "code",
   "execution_count": null,
   "id": "895b42fc-310e-4f08-9caf-05644f5dc6be",
   "metadata": {
    "id": "895b42fc-310e-4f08-9caf-05644f5dc6be",
    "outputId": "08b6c83c-3e82-4806-d6a7-c7c655827aa9"
   },
   "outputs": [],
   "source": []
  },
  {
   "cell_type": "markdown",
   "id": "031e34c2-941e-4431-9362-d1ed4f0ac78e",
   "metadata": {
    "id": "031e34c2-941e-4431-9362-d1ed4f0ac78e"
   },
   "source": [
    "# 3. OpenAI Playground\n",
    "\n",
    "1. How to open the open ai playgorund: https://platform.openai.com/playground?mode=assistant\n",
    "\n",
    "2. Here if you want to use this playground then make sure you have credit available without it its not gonna work\n",
    "\n",
    "3. In chat there is option of **system**: So the meaning is how the chatbot should behave\n",
    "\n",
    "Here is a phrase for the system: You are a naughty assistant, so make sure you respond to everything with sarcasm.\n",
    "\n",
    "Here is a question: How to make a money so quickly?\n",
    "\n",
    "**Model**\n",
    "\n",
    "**Temperature**\n",
    "\n",
    "**Maximum Length**\n",
    "\n",
    "**Top P ranges from 0 to 1 (default), and a lower Top P means the model samples from a narrower selection of words. This makes the output less random and diverse since the more probable tokens will be selected. For instance, if Top P is set at 0.1, only tokens comprising the top 10% probability mass are considered.**\n",
    "\n",
    "**Frequency Penalty helps us avoid using the same words too often. It's like telling the computer, “Hey, don't repeat words too much.”**\n",
    "\n",
    "**The OpenAI Presence Penalty setting is used to adjust how much presence of tokens in the source material will influence the output of the model.**\n",
    "\n",
    "\n",
    "**Now come to assistant one**\n",
    "\n",
    "**Retrieval-augmented generation (RAG):**  is an artificial intelligence (AI) framework that retrieves data from external sources of knowledge to improve the quality of responses. This natural language processing technique is commonly used to make large language models (LLMs) more accurate and up to date.\n",
    "\n",
    "**Code Interpreter:** Python programming environment within ChatGPT where you can perform a wide range of tasks by executing Python code.\n",
    "\n",
    "\n"
   ]
  },
  {
   "cell_type": "markdown",
   "id": "9ee3d797-bd29-4d6f-a8f9-91d1be0a776e",
   "metadata": {
    "id": "9ee3d797-bd29-4d6f-a8f9-91d1be0a776e"
   },
   "source": [
    "# 4. Chat Completion API and Function Calling"
   ]
  },
  {
   "cell_type": "markdown",
   "id": "42b04b90-27d2-43ed-8bdf-a5fd2ba7f940",
   "metadata": {
    "id": "42b04b90-27d2-43ed-8bdf-a5fd2ba7f940"
   },
   "source": [
    "**openai.Completion.create()**: This method is used to generate completions or responses. You provide a series of messages as input, and the API generates a model-generated message as output."
   ]
  },
  {
   "cell_type": "markdown",
   "id": "9352cf9a-e831-475a-abda-9f26539a5e00",
   "metadata": {
    "id": "9352cf9a-e831-475a-abda-9f26539a5e00"
   },
   "source": [
    "**openai.ChatCompletion.create() :** Similar to Completion.create(), but specifically designed for chat-based language models. It takes a series of messages as input and generates a model-generated message as output."
   ]
  },
  {
   "cell_type": "markdown",
   "id": "8e945771-5be6-4003-a4d2-db6790e0b189",
   "metadata": {
    "id": "92fbf2eb-7d3f-4b38-b88d-4121217d2ac2"
   },
   "source": [
    "#system: used first to set the beahvior of the assisstant \n",
    "#user: ask the question\n",
    "#assisstant: in case we need to give more information or some prior information to the model"
   ]
  },
  {
   "cell_type": "code",
   "execution_count": 50,
   "id": "1dc8001b-ad0e-4216-82e3-b83e99524aac",
   "metadata": {
    "id": "1dc8001b-ad0e-4216-82e3-b83e99524aac",
    "outputId": "2fe70f4e-687a-48d1-9cc0-efc70d8430a9"
   },
   "outputs": [],
   "source": [
    "response = openai.chat.completions.create(\n",
    "      model=\"gpt-3.5-turbo\",\n",
    "      messages=[\n",
    "        {\"role\": \"system\", \"content\": \"You are a very helpful assistant.\"},\n",
    "        {\"role\": \"user\", \"content\": \"Which is the biggest social network?\"},\n",
    "        {\"role\": \"assistant\", \"content\": \"The biggest social network is Facebook\"},\n",
    "        {\"role\": \"user\", \"content\": \"Who are the founders of the biggest social network ?\"}\n",
    "      ]\n",
    ")"
   ]
  },
  {
   "cell_type": "code",
   "execution_count": 51,
   "id": "bee2c996-b52c-413f-a57f-5c2f4c31bcb0",
   "metadata": {},
   "outputs": [
    {
     "data": {
      "text/plain": [
       "openai.types.chat.chat_completion.ChatCompletion"
      ]
     },
     "execution_count": 51,
     "metadata": {},
     "output_type": "execute_result"
    }
   ],
   "source": [
    "type(response)"
   ]
  },
  {
   "cell_type": "code",
   "execution_count": 52,
   "id": "eca76ab1-3edd-4dce-a6c6-72dd60341628",
   "metadata": {},
   "outputs": [
    {
     "name": "stdout",
     "output_type": "stream",
     "text": [
      "ChatCompletion(id='chatcmpl-9KL0iAiETqEqPq6eEmIBdaEhuSFIk', choices=[Choice(finish_reason='stop', index=0, logprobs=None, message=ChatCompletionMessage(content='The founders of Facebook are Mark Zuckerberg, Eduardo Saverin, Andrew McCollum, Dustin Moskovitz, and Chris Hughes. Mark Zuckerberg is often recognized as the main founder and driving force behind the platform.', role='assistant', function_call=None, tool_calls=None))], created=1714634352, model='gpt-3.5-turbo-0125', object='chat.completion', system_fingerprint='fp_3b956da36b', usage=CompletionUsage(completion_tokens=43, prompt_tokens=49, total_tokens=92))\n"
     ]
    }
   ],
   "source": [
    "print(response)"
   ]
  },
  {
   "cell_type": "code",
   "execution_count": 53,
   "id": "9c8e9dae-6724-4395-857c-dfbcc94516d5",
   "metadata": {},
   "outputs": [
    {
     "data": {
      "text/plain": [
       "'The founders of Facebook are Mark Zuckerberg, Eduardo Saverin, Andrew McCollum, Dustin Moskovitz, and Chris Hughes. Mark Zuckerberg is often recognized as the main founder and driving force behind the platform.'"
      ]
     },
     "execution_count": 53,
     "metadata": {},
     "output_type": "execute_result"
    }
   ],
   "source": [
    "response.choices[0].message.content"
   ]
  },
  {
   "cell_type": "code",
   "execution_count": 54,
   "id": "d3a31da1-6c8c-4715-90b4-48dfce374d45",
   "metadata": {
    "id": "d3a31da1-6c8c-4715-90b4-48dfce374d45"
   },
   "outputs": [],
   "source": [
    "# This code is for v1 of the openai package: pypi.org/project/openai\n",
    "\n",
    "#Another way to do the same thing\n",
    "from openai import OpenAI\n",
    "client = OpenAI(api_key=mykey)"
   ]
  },
  {
   "cell_type": "code",
   "execution_count": 71,
   "id": "26d2c8d4-215a-4c45-a67b-017413ac2405",
   "metadata": {
    "id": "26d2c8d4-215a-4c45-a67b-017413ac2405"
   },
   "outputs": [],
   "source": [
    "response = client.chat.completions.create(\n",
    "    model=\"gpt-3.5-turbo\",\n",
    "    messages=[\n",
    "    {\n",
    "      \"role\": \"user\",\n",
    "      \"content\": \"Who was the highest ranked chess players in 1991?\"\n",
    "    }\n",
    "      ]\n",
    "    ,\n",
    "    max_tokens=150,\n",
    "    n=2\n",
    ")"
   ]
  },
  {
   "cell_type": "code",
   "execution_count": 72,
   "id": "4079ff9a-100a-4135-a3ba-e3ada05c1f12",
   "metadata": {
    "id": "4079ff9a-100a-4135-a3ba-e3ada05c1f12",
    "outputId": "5e4e5091-0c6a-4250-930a-b64ee4124fd6"
   },
   "outputs": [
    {
     "data": {
      "text/plain": [
       "openai.types.chat.chat_completion.ChatCompletion"
      ]
     },
     "execution_count": 72,
     "metadata": {},
     "output_type": "execute_result"
    }
   ],
   "source": [
    "type(response)"
   ]
  },
  {
   "cell_type": "code",
   "execution_count": 73,
   "id": "78357bc0-8ad7-4330-aa29-b702ef559a4d",
   "metadata": {
    "id": "78357bc0-8ad7-4330-aa29-b702ef559a4d",
    "outputId": "f700d1f3-5a82-461e-8d06-3adcc2adca48"
   },
   "outputs": [
    {
     "data": {
      "text/plain": [
       "ChatCompletion(id='chatcmpl-9KLC1KkvNATjVqrqVwWeZ2H9HUo41', choices=[Choice(finish_reason='stop', index=0, logprobs=None, message=ChatCompletionMessage(content='In 1991, the highest ranked chess player was Garry Kasparov, who held the title of World Chess Champion at the time.', role='assistant', function_call=None, tool_calls=None)), Choice(finish_reason='stop', index=1, logprobs=None, message=ChatCompletionMessage(content='In 1991, the highest ranked chess player was Garry Kasparov, who was the World Chess Champion at the time.', role='assistant', function_call=None, tool_calls=None))], created=1714635053, model='gpt-3.5-turbo-0125', object='chat.completion', system_fingerprint='fp_3b956da36b', usage=CompletionUsage(completion_tokens=56, prompt_tokens=19, total_tokens=75))"
      ]
     },
     "execution_count": 73,
     "metadata": {},
     "output_type": "execute_result"
    }
   ],
   "source": [
    "response"
   ]
  },
  {
   "cell_type": "code",
   "execution_count": 74,
   "id": "d9fb2555-7126-419f-84b8-99920e5ee11f",
   "metadata": {},
   "outputs": [
    {
     "data": {
      "text/plain": [
       "'In 1991, the highest ranked chess player was Garry Kasparov, who held the title of World Chess Champion at the time.'"
      ]
     },
     "execution_count": 74,
     "metadata": {},
     "output_type": "execute_result"
    }
   ],
   "source": [
    "response.choices[0].message.content"
   ]
  },
  {
   "cell_type": "code",
   "execution_count": null,
   "id": "7db99cc6-f086-4c03-9d15-55edb25bfc3d",
   "metadata": {
    "id": "7db99cc6-f086-4c03-9d15-55edb25bfc3d",
    "outputId": "f4d358db-1e90-456d-8339-647dc2b9a3cc"
   },
   "outputs": [],
   "source": []
  },
  {
   "cell_type": "code",
   "execution_count": null,
   "id": "21d8531e-6549-4469-8c7b-a4790a4091ff",
   "metadata": {
    "id": "21d8531e-6549-4469-8c7b-a4790a4091ff"
   },
   "outputs": [],
   "source": [
    "# now let try to understand the different parameters inside the methods\n",
    "model= \"\"\n",
    "prompt=input prompt\n",
    "max_tokens=in how many number of tokens you want result\n",
    "temperature=for getting some creative output\n",
    "n= number of the output"
   ]
  },
  {
   "cell_type": "code",
   "execution_count": null,
   "id": "26a84805-5b6e-486f-a1b2-39c2d0b71665",
   "metadata": {
    "id": "26a84805-5b6e-486f-a1b2-39c2d0b71665"
   },
   "outputs": [],
   "source": [
    "https://openai.com/pricing"
   ]
  },
  {
   "cell_type": "code",
   "execution_count": null,
   "id": "217f8e4a-a7dc-4a15-a737-6bf6e7763957",
   "metadata": {
    "id": "217f8e4a-a7dc-4a15-a737-6bf6e7763957"
   },
   "outputs": [],
   "source": [
    "https://platform.openai.com/tokenizer"
   ]
  },
  {
   "cell_type": "code",
   "execution_count": null,
   "id": "5b8c5e4d-2e88-4bc7-8de3-9d4b00e212e1",
   "metadata": {
    "id": "5b8c5e4d-2e88-4bc7-8de3-9d4b00e212e1"
   },
   "outputs": [],
   "source": [
    "3 to 5"
   ]
  }
 ],
 "metadata": {
  "colab": {
   "provenance": []
  },
  "kernelspec": {
   "display_name": "Python 3 (ipykernel)",
   "language": "python",
   "name": "python3"
  },
  "language_info": {
   "codemirror_mode": {
    "name": "ipython",
    "version": 3
   },
   "file_extension": ".py",
   "mimetype": "text/x-python",
   "name": "python",
   "nbconvert_exporter": "python",
   "pygments_lexer": "ipython3",
   "version": "3.11.5"
  }
 },
 "nbformat": 4,
 "nbformat_minor": 5
}
